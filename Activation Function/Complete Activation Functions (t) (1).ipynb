{
 "cells": [
  {
   "cell_type": "markdown",
   "id": "526407e3",
   "metadata": {},
   "source": [
    "# Activation Functions "
   ]
  },
  {
   "cell_type": "markdown",
   "id": "7d9e3b44",
   "metadata": {},
   "source": [
    "# Activation functions are mathematical functions applied to the outputs of individual neurons in a neural network. They introduce non-linearity into the network, allowing it to learn and approximate complex relationships between inputs and outputs.\n",
    "\n",
    "some commonly used activation functions in deep learning:\n",
    "\n",
    "(1).Sigmoid function (Logistic function): It maps the input to a value between 0 and 1. It was widely used in the past but is now less popular due to some drawbacks such as vanishing gradients.\n",
    "    \n",
    "\n",
    "(2).Hyperbolic tangent function (tanh): Similar to the sigmoid function, but it maps the input to a value between -1 and 1. It is still used in some cases, but it also suffers from vanishing gradients.\n",
    "    \n",
    "\n",
    "(3).Rectified Linear Unit (ReLU): This function sets all negative values to zero and keeps positive values unchanged. It is the most popular activation function in deep learning due to its simplicity and effectiveness in training deep neural networks.\n",
    "    \n",
    "\n",
    "(4).Leaky ReLU: This function is similar to ReLU but allows a small negative slope for negative input values. It helps mitigate the \"dying ReLU\" problem where some neurons can become permanently inactive during training.\n",
    "    \n",
    "\n",
    "(5).Parametric ReLU (PReLU): PReLU is a generalization of ReLU that introduces a learnable parameter to determine the slope of negative input values. It offers more flexibility and can improve model performance.\n",
    "    \n",
    "\n",
    "(6).Exponential Linear Unit (ELU): ELU is a variation of ReLU that allows negative values with a smooth exponential decay. It helps alleviate the dying ReLU problem and can produce more robust models.\n",
    "    \n",
    "\n",
    "(7).Softmax: Softmax is commonly used in the output layer of a neural network for multi-class classification problems. It normalizes the output values to represent probabilities, ensuring that the sum of all probabilities is 1."
   ]
  },
  {
   "cell_type": "markdown",
   "id": "5fef3603",
   "metadata": {},
   "source": [
    "# Activation functions are essential in deep learning for the following reasons:\n",
    "\n",
    "(1). Non-linearity: Activation functions introduce non-linear transformations to the network, enabling it to learn complex patterns and relationships in the data. Without activation functions, a neural network would simply be a linear model.\n",
    "    \n",
    "\n",
    "(2). Gradient propagation: Activation functions help propagate gradients backward during the training process, allowing efficient optimization and learning. Different activation functions have different characteristics in terms of gradient behavior, which can impact the model's training dynamics.\n",
    "    \n",
    "\n",
    "(3). Model capacity: The choice of activation function can influence the capacity and expressive power of a neural network. Non-linear activation functions enable the network to represent more complex functions, expanding its ability to learn and generalize.\n",
    "    \n",
    "\n",
    "By using suitable activation functions, deep learning models can learn and approximate highly nonlinear functions, making them powerful tools for tasks such as image recognition, natural language processing, and speech recognition."
   ]
  },
  {
   "cell_type": "markdown",
   "id": "6af2a63a",
   "metadata": {},
   "source": [
    "# 1. Sigmoid Function "
   ]
  },
  {
   "cell_type": "markdown",
   "id": "7c498d99",
   "metadata": {},
   "source": [
    "# The sigmoid function, also known as the logistic function, is a mathematical function that maps any real-valued number to a value between 0 and 1. It is commonly used in machine learning and neural networks as an activation function to introduce non-linearity into the model."
   ]
  },
  {
   "cell_type": "markdown",
   "id": "2d9d9559",
   "metadata": {},
   "source": [
    "# sigmoid(x) = 1 / (1 + exp(-x))"
   ]
  },
  {
   "cell_type": "markdown",
   "id": "69cca3d7",
   "metadata": {},
   "source": [
    "# The sigmoid function has an S-shaped curve and its output values range from 0 to 1. When the input x is a large positive number, the sigmoid function approaches 1, and when the input is a large negative number, it approaches 0. The function returns 0.5 when the input is 0."
   ]
  },
  {
   "cell_type": "code",
   "execution_count": 1,
   "id": "1f16fed8",
   "metadata": {},
   "outputs": [
    {
     "name": "stdout",
     "output_type": "stream",
     "text": [
      "Sigmoid( 2.5 ) = 0.9241418199787566\n"
     ]
    }
   ],
   "source": [
    "import numpy as np\n",
    "\n",
    "def sigmoid(x):\n",
    "    return 1 / (1 + np.exp(-x))\n",
    "\n",
    "# Example usage\n",
    "x = 2.5\n",
    "result = sigmoid(x)\n",
    "print(\"Sigmoid(\", x, \") =\", result)\n"
   ]
  },
  {
   "cell_type": "markdown",
   "id": "7a6cb68a",
   "metadata": {},
   "source": [
    "# Example - 2 \n",
    "\n",
    "we want to predict whether a student will pass or fail an exam based on their study hours. We can use the sigmoid function to model the probability of passing the exam given the study hours."
   ]
  },
  {
   "cell_type": "code",
   "execution_count": 2,
   "id": "14e6d5b4",
   "metadata": {},
   "outputs": [
    {
     "data": {
      "image/png": "[encoded data removed]",
      "text/plain": [
       "<Figure size 640x480 with 1 Axes>"
      ]
     },
     "metadata": {},
     "output_type": "display_data"
    },
    {
     "name": "stdout",
     "output_type": "stream",
     "text": [
      "Study Hours: 1.55  Probability of Passing: 0.8252\n",
      "Study Hours: 9.67  Probability of Passing: 0.9999\n",
      "Study Hours: 9.10  Probability of Passing: 0.9999\n",
      "Study Hours: 0.97  Probability of Passing: 0.7247\n",
      "Study Hours: 2.21  Probability of Passing: 0.9011\n",
      "Study Hours: 5.77  Probability of Passing: 0.9969\n",
      "Study Hours: 6.42  Probability of Passing: 0.9984\n",
      "Study Hours: 1.21  Probability of Passing: 0.7695\n",
      "Study Hours: 2.36  Probability of Passing: 0.9133\n",
      "Study Hours: 6.66  Probability of Passing: 0.9987\n",
      "Study Hours: 8.59  Probability of Passing: 0.9998\n",
      "Study Hours: 1.21  Probability of Passing: 0.7696\n",
      "Study Hours: 2.28  Probability of Passing: 0.9069\n",
      "Study Hours: 5.53  Probability of Passing: 0.9960\n",
      "Study Hours: 3.43  Probability of Passing: 0.9686\n",
      "Study Hours: 0.26  Probability of Passing: 0.5635\n",
      "Study Hours: 2.43  Probability of Passing: 0.9187\n",
      "Study Hours: 2.12  Probability of Passing: 0.8925\n",
      "Study Hours: 0.12  Probability of Passing: 0.5294\n",
      "Study Hours: 4.56  Probability of Passing: 0.9897\n",
      "Study Hours: 3.19  Probability of Passing: 0.9605\n",
      "Study Hours: 3.72  Probability of Passing: 0.9764\n",
      "Study Hours: 5.76  Probability of Passing: 0.9969\n",
      "Study Hours: 3.13  Probability of Passing: 0.9579\n",
      "Study Hours: 5.41  Probability of Passing: 0.9955\n",
      "Study Hours: 9.49  Probability of Passing: 0.9999\n",
      "Study Hours: 5.06  Probability of Passing: 0.9937\n",
      "Study Hours: 2.17  Probability of Passing: 0.8978\n",
      "Study Hours: 4.33  Probability of Passing: 0.9870\n",
      "Study Hours: 7.52  Probability of Passing: 0.9995\n",
      "Study Hours: 0.38  Probability of Passing: 0.5947\n",
      "Study Hours: 5.76  Probability of Passing: 0.9969\n",
      "Study Hours: 0.87  Probability of Passing: 0.7047\n",
      "Study Hours: 0.58  Probability of Passing: 0.6402\n",
      "Study Hours: 3.43  Probability of Passing: 0.9688\n",
      "Study Hours: 7.28  Probability of Passing: 0.9993\n",
      "Study Hours: 3.75  Probability of Passing: 0.9771\n",
      "Study Hours: 4.94  Probability of Passing: 0.9929\n",
      "Study Hours: 5.27  Probability of Passing: 0.9949\n",
      "Study Hours: 7.89  Probability of Passing: 0.9996\n",
      "Study Hours: 9.30  Probability of Passing: 0.9999\n",
      "Study Hours: 1.96  Probability of Passing: 0.8764\n",
      "Study Hours: 8.43  Probability of Passing: 0.9998\n",
      "Study Hours: 2.63  Probability of Passing: 0.9325\n",
      "Study Hours: 8.72  Probability of Passing: 0.9998\n",
      "Study Hours: 2.72  Probability of Passing: 0.9382\n",
      "Study Hours: 7.94  Probability of Passing: 0.9996\n",
      "Study Hours: 3.47  Probability of Passing: 0.9697\n",
      "Study Hours: 9.60  Probability of Passing: 0.9999\n",
      "Study Hours: 6.23  Probability of Passing: 0.9980\n",
      "Study Hours: 8.34  Probability of Passing: 0.9998\n",
      "Study Hours: 7.21  Probability of Passing: 0.9993\n",
      "Study Hours: 8.62  Probability of Passing: 0.9998\n",
      "Study Hours: 2.87  Probability of Passing: 0.9461\n",
      "Study Hours: 8.45  Probability of Passing: 0.9998\n",
      "Study Hours: 0.71  Probability of Passing: 0.6698\n",
      "Study Hours: 9.07  Probability of Passing: 0.9999\n",
      "Study Hours: 2.17  Probability of Passing: 0.8971\n",
      "Study Hours: 9.41  Probability of Passing: 0.9999\n",
      "Study Hours: 3.11  Probability of Passing: 0.9572\n",
      "Study Hours: 2.48  Probability of Passing: 0.9225\n",
      "Study Hours: 7.37  Probability of Passing: 0.9994\n",
      "Study Hours: 5.27  Probability of Passing: 0.9949\n",
      "Study Hours: 3.84  Probability of Passing: 0.9789\n",
      "Study Hours: 3.13  Probability of Passing: 0.9583\n",
      "Study Hours: 7.68  Probability of Passing: 0.9995\n",
      "Study Hours: 9.93  Probability of Passing: 1.0000\n",
      "Study Hours: 1.40  Probability of Passing: 0.8018\n",
      "Study Hours: 7.37  Probability of Passing: 0.9994\n",
      "Study Hours: 2.81  Probability of Passing: 0.9431\n",
      "Study Hours: 9.86  Probability of Passing: 0.9999\n",
      "Study Hours: 5.73  Probability of Passing: 0.9968\n",
      "Study Hours: 8.97  Probability of Passing: 0.9999\n",
      "Study Hours: 0.32  Probability of Passing: 0.5783\n",
      "Study Hours: 8.53  Probability of Passing: 0.9998\n",
      "Study Hours: 3.22  Probability of Passing: 0.9616\n",
      "Study Hours: 5.39  Probability of Passing: 0.9955\n",
      "Study Hours: 3.11  Probability of Passing: 0.9572\n",
      "Study Hours: 9.40  Probability of Passing: 0.9999\n",
      "Study Hours: 1.17  Probability of Passing: 0.7639\n",
      "Study Hours: 9.71  Probability of Passing: 0.9999\n",
      "Study Hours: 7.32  Probability of Passing: 0.9993\n",
      "Study Hours: 0.07  Probability of Passing: 0.5184\n",
      "Study Hours: 5.54  Probability of Passing: 0.9961\n",
      "Study Hours: 8.60  Probability of Passing: 0.9998\n",
      "Study Hours: 4.41  Probability of Passing: 0.9880\n",
      "Study Hours: 4.06  Probability of Passing: 0.9830\n",
      "Study Hours: 0.48  Probability of Passing: 0.6175\n",
      "Study Hours: 8.06  Probability of Passing: 0.9997\n",
      "Study Hours: 7.28  Probability of Passing: 0.9993\n",
      "Study Hours: 8.37  Probability of Passing: 0.9998\n",
      "Study Hours: 9.79  Probability of Passing: 0.9999\n",
      "Study Hours: 3.70  Probability of Passing: 0.9758\n",
      "Study Hours: 1.10  Probability of Passing: 0.7502\n",
      "Study Hours: 1.38  Probability of Passing: 0.7995\n",
      "Study Hours: 7.88  Probability of Passing: 0.9996\n",
      "Study Hours: 0.65  Probability of Passing: 0.6565\n",
      "Study Hours: 3.51  Probability of Passing: 0.9710\n",
      "Study Hours: 5.97  Probability of Passing: 0.9974\n",
      "Study Hours: 9.19  Probability of Passing: 0.9999\n"
     ]
    }
   ],
   "source": [
    "import numpy as np\n",
    "import matplotlib.pyplot as plt\n",
    "\n",
    "def sigmoid(x):\n",
    "    return 1 / (1 + np.exp(-x))\n",
    "\n",
    "# Generate some random study hours between 0 and 10\n",
    "study_hours = np.random.uniform(0, 10, size=(100,))\n",
    "\n",
    "# Define a passing threshold (Example =  5 hours)\n",
    "pass_threshold = 5\n",
    "\n",
    "# Assign labels based on passing threshold\n",
    "labels = (study_hours >= pass_threshold).astype(int)\n",
    "\n",
    "# Plot the sigmoid function\n",
    "x = np.linspace(-10, 10, 100)\n",
    "y = sigmoid(x)\n",
    "plt.plot(x, y)\n",
    "plt.title(\"Sigmoid Function\")\n",
    "plt.xlabel(\"x\")\n",
    "plt.ylabel(\"sigmoid(x)\")\n",
    "plt.grid(True)\n",
    "plt.show()\n",
    "\n",
    "# Calculate the probability of passing for each study hour\n",
    "probabilities = sigmoid(study_hours)\n",
    "\n",
    "# Print the study hours and their corresponding probabilities\n",
    "for hour, prob in zip(study_hours, probabilities):\n",
    "    print(\"Study Hours: {:.2f}  Probability of Passing: {:.4f}\".format(hour, prob))\n"
   ]
  },
  {
   "cell_type": "markdown",
   "id": "4ddd92c8",
   "metadata": {},
   "source": [
    "# 2. tanh "
   ]
  },
  {
   "cell_type": "markdown",
   "id": "1e94f966",
   "metadata": {},
   "source": [
    "# The hyperbolic tangent activation function, commonly known as the tanh function, is a widely used activation function in deep learning. It is a non-linear function that maps the input to a value between -1 and 1."
   ]
  },
  {
   "cell_type": "markdown",
   "id": "3adc7067",
   "metadata": {},
   "source": [
    "# tanh(x) = (e^x - e^(-x)) / (e^x + e^(-x))\n"
   ]
  },
  {
   "cell_type": "markdown",
   "id": "0cf30efb",
   "metadata": {},
   "source": [
    "# complete explanation of the hyperbolic tangent activation function in deep learning:\n",
    "\n",
    "(1). Range and Symmetry:\n",
    "The tanh function has a range between -1 and 1, which makes it useful for normalizing outputs and bringing them within a bounded range. The function is also symmetric around the origin, meaning that tanh(-x) = -tanh(x). This symmetry can be beneficial in certain network architectures.\n",
    "\n",
    "\n",
    "(2). Non-linearity:\n",
    "The tanh function introduces non-linearity into the neural network, allowing it to learn and approximate complex relationships between inputs and outputs. Non-linearity is crucial for deep learning models to capture intricate patterns in the data that linear models cannot represent.\n",
    "\n",
    "\n",
    "(3). Gradient and Activation Derivative:\n",
    "The tanh function has a steeper gradient compared to the sigmoid function, especially around the origin (x = 0). This property helps mitigate the vanishing gradient problem to some extent, enabling more efficient gradient propagation during backpropagation. The derivative of the tanh function is given by: d/dx(tanh(x)) = 1 - tanh(x)^2.\n",
    "    \n",
    "\n",
    "(4). Zero-centered Output:\n",
    "The tanh function has a zero-centered output, which means that the outputs are centered around zero. This can be advantageous in certain cases, as it helps with weight initialization and model convergence.\n",
    "\n",
    "\n",
    "(5). Similarity to Sigmoid Function:\n",
    "The tanh function is similar to the sigmoid function in shape but differs in the output range. While the sigmoid function maps values to a range of 0 to 1, the tanh function maps values to a range of -1 to 1. This property of the tanh function allows it to capture stronger negative activations compared to the sigmoid function.\n",
    "\n",
    "\n",
    "(6). Usage in Hidden Layers:\n",
    "The tanh function is commonly used as an activation function in the hidden layers of a neural network. It allows the network to learn complex non-linear relationships between the features and hidden representations. However, it is important to consider the potential for vanishing gradients when using tanh, especially in deep networks.\n",
    "\n",
    "\n",
    "Inshort, the hyperbolic tangent activation function (tanh) is a valuable tool in deep learning. It provides non-linearity, a steeper gradient, and zero-centered outputs, allowing neural networks to model complex patterns and improve training dynamics.\n"
   ]
  },
  {
   "cell_type": "code",
   "execution_count": 13,
   "id": "c86f1c4c",
   "metadata": {},
   "outputs": [
    {
     "name": "stdout",
     "output_type": "stream",
     "text": [
      "Epoch 1/10\n",
      "25/25 [==============================] - 0s 1ms/step - loss: 0.5194 - accuracy: 0.7362\n",
      "Epoch 2/10\n",
      "25/25 [==============================] - 0s 1ms/step - loss: 0.4289 - accuracy: 0.8100\n",
      "Epoch 3/10\n",
      "25/25 [==============================] - 0s 1ms/step - loss: 0.4008 - accuracy: 0.8250\n",
      "Epoch 4/10\n",
      "25/25 [==============================] - 0s 1ms/step - loss: 0.3813 - accuracy: 0.8388\n",
      "Epoch 5/10\n",
      "25/25 [==============================] - 0s 1ms/step - loss: 0.3692 - accuracy: 0.8388\n",
      "Epoch 6/10\n",
      "25/25 [==============================] - 0s 1ms/step - loss: 0.3517 - accuracy: 0.8550\n",
      "Epoch 7/10\n",
      "25/25 [==============================] - 0s 1ms/step - loss: 0.3425 - accuracy: 0.8487\n",
      "Epoch 8/10\n",
      "25/25 [==============================] - 0s 1ms/step - loss: 0.3219 - accuracy: 0.8687\n",
      "Epoch 9/10\n",
      "25/25 [==============================] - 0s 1ms/step - loss: 0.3108 - accuracy: 0.8687\n",
      "Epoch 10/10\n",
      "25/25 [==============================] - 0s 1ms/step - loss: 0.2963 - accuracy: 0.8737\n",
      "7/7 [==============================] - 0s 1ms/step - loss: 0.2592 - accuracy: 0.8850\n",
      "Test Loss: 0.2592010200023651\n",
      "Test Accuracy: 0.8849999904632568\n"
     ]
    }
   ],
   "source": [
    "import numpy as np\n",
    "from sklearn.datasets import make_classification\n",
    "from sklearn.model_selection import train_test_split\n",
    "from tensorflow.keras.models import Sequential\n",
    "from tensorflow.keras.layers import Dense, Activation\n",
    "\n",
    "# Generate a synthetic classification dataset\n",
    "X, y = make_classification(n_samples=1000, n_features=10, n_informative=5, random_state=42)\n",
    "\n",
    "# Split the data into training and testing sets\n",
    "X_train, X_test, y_train, y_test = train_test_split(X, y, test_size=0.2, random_state=42)\n",
    "\n",
    "# Build the neural network model\n",
    "model = Sequential()\n",
    "model.add(Dense(64, activation='tanh', input_shape=(X_train.shape[1],)))\n",
    "model.add(Dense(64, activation='tanh'))\n",
    "model.add(Dense(1, activation='sigmoid'))\n",
    "\n",
    "# Compile the model\n",
    "model.compile(optimizer='adam', loss='binary_crossentropy', metrics=['accuracy'])\n",
    "\n",
    "# Train the model\n",
    "model.fit(X_train, y_train, epochs=10, batch_size=32)\n",
    "\n",
    "# Evaluate the model on the testing data\n",
    "loss, accuracy = model.evaluate(X_test, y_test)\n",
    "print(\"Test Loss:\", loss)\n",
    "print(\"Test Accuracy:\", accuracy)\n"
   ]
  },
  {
   "cell_type": "code",
   "execution_count": 4,
   "id": "3d473e26",
   "metadata": {},
   "outputs": [
    {
     "data": {
      "image/png": "[encoded data removed]",
      "text/plain": [
       "<Figure size 640x480 with 1 Axes>"
      ]
     },
     "metadata": {},
     "output_type": "display_data"
    }
   ],
   "source": [
    "import numpy as np\n",
    "import matplotlib.pyplot as plt\n",
    "\n",
    "# Generate x values ranging from -5 to 5\n",
    "x = np.linspace(-5, 5, 100)\n",
    "\n",
    "# Compute the tanh values for each x\n",
    "y = np.tanh(x)\n",
    "\n",
    "# Plot the tanh function\n",
    "plt.plot(x, y, label='tanh(x)')\n",
    "plt.xlabel('x')\n",
    "plt.ylabel('tanh(x)')\n",
    "plt.title('Hyperbolic Tangent (tanh) Activation Function')\n",
    "plt.legend()\n",
    "plt.grid(True)\n",
    "plt.show()\n"
   ]
  },
  {
   "cell_type": "markdown",
   "id": "45898ab5",
   "metadata": {},
   "source": [
    "# 3. ReLU(Rectified Linear Unit) \n",
    "\n",
    "The Rectified Linear Unit (ReLU) activation function is a popular choice in deep learning neural networks due to its simplicity and effectiveness. It introduces non-linearity to the network, allowing it to learn and approximate complex relationships between inputs and outputs. ReLU has become a standard activation function in many deep learning architectures.\n",
    "\n",
    "\n",
    "The ReLU function is defined as follows:\n",
    "\n",
    "ReLU(x) = max(0, x)\n",
    "\n",
    "In other words, ReLU takes an input value x and returns the maximum of 0 and x. If x is greater than 0, ReLU outputs x directly. If x is less than or equal to 0, ReLU outputs 0. Therefore, the function \"rectifies\" negative values to zero, while leaving positive values unchanged.\n"
   ]
  },
  {
   "cell_type": "markdown",
   "id": "ee8400ee",
   "metadata": {},
   "source": [
    "# ReLU has several desirable properties that make it an attractive choice:\n",
    "\n",
    "(1). Simplicity: ReLU is a simple mathematical function with low computational complexity. It only involves a single comparison and a maximum operation.\n",
    "\n",
    "(2). Non-linearity: ReLU introduces non-linear behavior to the network, which allows it to learn and represent complex patterns in the data. This non-linearity is crucial for modeling highly nonlinear relationships between inputs and outputs.\n",
    "\n",
    "(3). Sparse activation: ReLU activations are sparse, meaning that only a subset of the neurons in a layer will be activated at any given time. This sparsity can lead to more efficient and expressive representations, as it encourages the network to focus on the most relevant features.\n",
    "\n",
    "(4). Avoiding the vanishing gradient problem: ReLU helps mitigate the vanishing gradient problem, which can occur when training deep neural networks. The vanishing gradient problem refers to the issue of gradients diminishing exponentially as they are backpropagated through many layers. Since ReLU does not saturate in the positive range (i.e., the gradient is 1 for positive inputs), it allows gradients to flow more freely and prevents them from vanishing.\n",
    "\n",
    "(5). Efficient computation: ReLU's piecewise linearity allows for efficient computation during both forward and backward propagation. It is computationally inexpensive to evaluate the ReLU function and its derivative.\n",
    "\n"
   ]
  },
  {
   "cell_type": "markdown",
   "id": "d96649ab",
   "metadata": {},
   "source": [
    "# Disadvantages of ReLU :\n",
    "    \n",
    "(1). Dead neurons: During training, some neurons may become \"dead\" or \"dying\" as they never activate (output zero) for any input. This happens when the neuron's bias term is initialized in such a way that the weighted sum of inputs is always negative. Once a neuron becomes dead, it cannot recover because the gradient of the ReLU function is zero for negative inputs. Dead neurons can lead to a decrease in the model's representational capacity.\n",
    "    \n",
    "\n",
    "(2). Output saturation: ReLU saturates at zero for negative inputs. This means that when the input is negative, the gradient becomes zero, causing the neuron to be non-responsive to further changes. This saturation behavior can limit the ability of the model to learn effectively, especially in cases where negative inputs are relevant for the task.\n",
    "    \n",
    "\n",
    "(3). Lack of negative output: ReLU only allows positive values or zero as output, which can be a disadvantage for certain tasks. Some data distributions or problem domains may benefit from having negative values in the output space. For example, in image generation tasks, negative pixel values can represent dark regions.\n",
    "    \n",
    "\n",
    "(4). Gradient explosion: Although ReLU mitigates the vanishing gradient problem, it can still suffer from the opposite issue of gradient explosion, especially when used in deep neural networks. If the learning rate is not properly adjusted, large positive gradients can propagate through the network, causing instability and making it difficult to converge to an optimal solution.\n",
    "    \n",
    "\n",
    "    "
   ]
  },
  {
   "cell_type": "code",
   "execution_count": 15,
   "id": "a3c94f7b",
   "metadata": {},
   "outputs": [
    {
     "name": "stdout",
     "output_type": "stream",
     "text": [
      "[0. 2. 0. 3.]\n"
     ]
    }
   ],
   "source": [
    "# import tensorflow as tf\n",
    "\n",
    "# # Define the input tensor\n",
    "# input_tensor = tf.constant([-1.0, 2.0, -0.5, 3.0])\n",
    "\n",
    "# # Apply ReLU activation function\n",
    "# output_tensor = tf.nn.relu(input_tensor)\n",
    "\n",
    "# # Print the output\n",
    "# print(output_tensor.numpy())\n",
    "\n"
   ]
  },
  {
   "cell_type": "code",
   "execution_count": 25,
   "id": "3dc8f5f1",
   "metadata": {},
   "outputs": [],
   "source": [
    "# import tensorflow as tf\n",
    "# import numpy as np\n",
    "# from tensorflow import keras\n",
    "\n",
    "# # Define the neural network architecture\n",
    "# input_size = 4\n",
    "# hidden_size = 8\n",
    "# output_size = 2\n",
    "\n",
    "# # Define the model\n",
    "# model = keras.Sequential([\n",
    "#     keras.layers.Dense(hidden_size, activation='relu', input_shape=(input_size,)),\n",
    "#     keras.layers.Dense(output_size)\n",
    "# ])\n",
    "\n",
    "# # Compile the model\n",
    "# model.compile(optimizer=keras.optimizers.SGD(learning_rate=0.01),\n",
    "#               loss=keras.losses.MeanSquaredError())\n",
    "\n",
    "# # Define your input and target data as NumPy arrays\n",
    "# input_data = np.array([[1.0, 2.0, 3.0, 4.0],\n",
    "#                       [2.0, 3.0, 4.0, 5.0],\n",
    "#                       [3.0, 4.0, 5.0, 6.0]])\n",
    "# target_data = np.array([[0.5, 0.8],\n",
    "#                         [0.6, 0.9],\n",
    "#                         [0.7, 1.0]])\n",
    "\n",
    "# # Train the model\n",
    "# model.fit(input_data, target_data, epochs=1000, verbose=0)\n",
    "\n",
    "# # Test the model\n",
    "# test_input = np.array([[1.0, 2.0, 3.0, 4.0]])\n",
    "# predicted_output = model.predict(test_input)\n",
    "\n",
    "# print(f\"Predicted Output: {predicted_output}\")\n"
   ]
  },
  {
   "cell_type": "markdown",
   "id": "7da3b623",
   "metadata": {},
   "source": [
    "# 4. Leaky ReLU "
   ]
  },
  {
   "cell_type": "markdown",
   "id": "4f98d3eb",
   "metadata": {},
   "source": [
    "# The Leaky Rectified Linear Unit (Leaky ReLU) activation function is a variation of the ReLU activation function that addresses some of the limitations of the standard ReLU. It introduces a small slope for negative values, allowing the activation function to have non-zero outputs even for negative inputs. This helps mitigate the issue of \"dying\" or \"dead\" neurons in ReLU.\n",
    "\n",
    "The Leaky ReLU function is defined as follows:\n",
    "\n",
    "LeakyReLU(x) = max(ax, x)\n",
    "\n",
    "where 'a' is a small constant (usually a small positive value), and 'x' is the input value. If 'x' is greater than or equal to 0, Leaky ReLU behaves the same as ReLU, outputting 'x' directly. However, if 'x' is negative, Leaky ReLU outputs the product of 'a' and 'x'.\n",
    "\n",
    "The inclusion of a small slope for negative inputs in Leaky ReLU helps address the issue of dead neurons that can occur in ReLU. When neurons become dead, they output zero for all inputs and do not contribute to the learning process. By introducing a small negative slope, Leaky ReLU allows for a non-zero gradient even for negative inputs, preventing neurons from becoming completely non-responsive.\n",
    "\n",
    "The benefits of Leaky ReLU can be summarized as follows:\n",
    "    \n",
    "(1). Solving the dying ReLU problem: By introducing a small slope for negative inputs, Leaky ReLU avoids the issue of dead neurons that can occur in ReLU. The small slope ensures that even negative inputs contribute to the gradient, allowing neurons to recover from non-activation.\n",
    "    \n",
    "\n",
    "(2). Non-zero outputs for negative inputs: Leaky ReLU provides non-zero outputs for negative inputs, allowing the model to learn from both positive and negative activations. This property can be useful in situations where negative values are meaningful or when the data distribution includes negative values.\n",
    "    \n",
    "\n",
    "(3). Simplicity and computational efficiency: Leaky ReLU, like ReLU, is a simple mathematical function and has low computational complexity. It can be computed efficiently during both forward and backward propagation.\n",
    "    \n",
    "    \n",
    "\n",
    "In sort , The choice of the slope 'a' in Leaky ReLU is typically a small value, such as 0.01. However, in some cases, researchers have explored making 'a' learnable during the training process, leading to the Parametric ReLU (PReLU) activation function.\n",
    "Leaky ReLU is a variation of the ReLU activation function that introduces a small slope for negative inputs, addressing the issue of dead neurons and allowing for non-zero outputs for negative values. It has gained popularity in deep learning architectures as an alternative to ReLU, providing improved learning capabilities while maintaining simplicity and computational efficiency."
   ]
  },
  {
   "cell_type": "markdown",
   "id": "aa50f335",
   "metadata": {},
   "source": [
    "# Disadvantages of Leaky ReLU :\n",
    "    \n",
    "    While Leaky ReLU addresses some of the limitations of the standard ReLU activation function, it also has a few disadvantages. Here are some drawbacks of Leaky ReLU:\n",
    "\n",
    "(1). Non-uniform gradient: Leaky ReLU introduces a non-uniform gradient, as the slope for negative inputs is different from the slope for positive inputs. This can lead to uneven learning rates for different neurons, which might not be ideal for certain optimization algorithms.\n",
    "    \n",
    "\n",
    "(2). Lack of theoretical justification: Unlike some other activation functions, such as sigmoid or tanh, which have theoretical justifications based on probabilistic or mathematical principles, the choice of a small slope for negative inputs in Leaky ReLU is mainly empirical. There is no clear theoretical foundation for the specific value of the slope, and it is often chosen through trial and error.\n",
    "    \n",
    "\n",
    "(3). Sensitivity to the choice of slope value: The slope value in Leaky ReLU needs to be carefully chosen. If the value is too large, it might lead to a behavior similar to a linear activation function, reducing the non-linear capacity of the network. On the other hand, if the value is too small, it might not effectively address the dying ReLU problem.\n",
    "    \n",
    "\n",
    "(4). Extra hyperparameter to tune: Leaky ReLU introduces an additional hyperparameter, the slope value, which needs to be manually set. This increases the complexity of the model selection and tuning process. In contrast, the standard ReLU activation function does not have any hyperparameters to tune.\n",
    "    \n",
    "\n",
    "(5). Limited empirical performance improvement: While Leaky ReLU can address the dying ReLU problem, it does not always provide significant improvements over the standard ReLU. The benefits of Leaky ReLU are more apparent in specific scenarios where negative inputs are relevant, and the dying ReLU problem is prevalent.\n",
    "    \n",
    "\n",
    "(6). Other advanced activation functions available: Leaky ReLU is one of the early attempts to address the limitations of ReLU. Since its introduction, several other activation functions, such as Parametric ReLU (PReLU) and Exponential Linear Unit (ELU), have been proposed and shown to perform better in certain scenarios. These advanced activation functions offer additional advantages over Leaky ReLU, such as smoothness and adaptive slope values.\n",
    "    "
   ]
  },
  {
   "cell_type": "code",
   "execution_count": 27,
   "id": "c0e77236",
   "metadata": {},
   "outputs": [
    {
     "name": "stdout",
     "output_type": "stream",
     "text": [
      "[-0.2  2.  -0.1  3. ]\n"
     ]
    }
   ],
   "source": [
    "# import tensorflow as tf\n",
    "\n",
    "# # Define the input tensor\n",
    "# input_tensor = tf.constant([-1.0, 2.0, -0.5, 3.0])\n",
    "\n",
    "# # Apply Leaky ReLU activation function\n",
    "# output_tensor = tf.nn.leaky_relu(input_tensor, alpha=0.2)\n",
    "\n",
    "# # Print the output\n",
    "# print(output_tensor.numpy())\n"
   ]
  },
  {
   "cell_type": "code",
   "execution_count": 8,
   "id": "b4d9b3b5",
   "metadata": {},
   "outputs": [],
   "source": [
    "# As we can see, the Leaky ReLU activation function sets negative values to a small fraction of the input \n",
    "# (alpha times the input), while leaving positive values unchanged. In this case, the input tensor [-1.0, 2.0, -0.5, 3.0] gets \n",
    "# transformed into [-0.2, 2.0, -0.1, 3.0] after applying the Leaky ReLU activation function."
   ]
  },
  {
   "cell_type": "code",
   "execution_count": 34,
   "id": "61960b2f",
   "metadata": {},
   "outputs": [
    {
     "name": "stdout",
     "output_type": "stream",
     "text": [
      "WARNING:tensorflow:The following Variables were used in a Lambda layer's call (tf.linalg.matmul_18), but are not present in its tracked objects:   <tf.Variable 'Variable:0' shape=(4, 8) dtype=float32>. This is a strong indication that the Lambda layer should be rewritten as a subclassed Layer.\n",
      "WARNING:tensorflow:The following Variables were used in a Lambda layer's call (tf.__operators__.add_18), but are not present in its tracked objects:   <tf.Variable 'Variable:0' shape=(8,) dtype=float32>. This is a strong indication that the Lambda layer should be rewritten as a subclassed Layer.\n",
      "WARNING:tensorflow:The following Variables were used in a Lambda layer's call (tf.linalg.matmul_19), but are not present in its tracked objects:   <tf.Variable 'Variable:0' shape=(8, 2) dtype=float32>. This is a strong indication that the Lambda layer should be rewritten as a subclassed Layer.\n",
      "WARNING:tensorflow:The following Variables were used in a Lambda layer's call (tf.__operators__.add_19), but are not present in its tracked objects:   <tf.Variable 'Variable:0' shape=(2,) dtype=float32>. This is a strong indication that the Lambda layer should be rewritten as a subclassed Layer.\n",
      "1/1 [==============================] - 0s 54ms/step\n",
      "Predicted Output: [[18.746403   3.1919062]]\n"
     ]
    }
   ],
   "source": [
    "# import tensorflow as tf\n",
    "# import numpy as np\n",
    "\n",
    "# # Define the neural network architecture\n",
    "# input_size = 4\n",
    "# hidden_size = 8\n",
    "# output_size = 2\n",
    "\n",
    "# # Create the input and target tensors\n",
    "# inputs = tf.keras.Input(shape=(input_size,))\n",
    "# targets = tf.keras.Input(shape=(output_size,))\n",
    "\n",
    "# # Define the weights and biases for the hidden layer\n",
    "# hidden_weights = tf.Variable(tf.random.normal(shape=(input_size, hidden_size)))\n",
    "# hidden_biases = tf.Variable(tf.zeros(shape=(hidden_size,)))\n",
    "\n",
    "# # Compute the hidden layer output with Leaky ReLU activation function\n",
    "# hidden_layer_output = tf.nn.leaky_relu(tf.matmul(inputs, hidden_weights) + hidden_biases, alpha=0.2)\n",
    "\n",
    "# # Define the weights and biases for the output layer\n",
    "# output_weights = tf.Variable(tf.random.normal(shape=(hidden_size, output_size)))\n",
    "# output_biases = tf.Variable(tf.zeros(shape=(output_size,)))\n",
    "\n",
    "# # Compute the final output\n",
    "# output = tf.matmul(hidden_layer_output, output_weights) + output_biases\n",
    "\n",
    "# # Define the loss function\n",
    "# loss = tf.reduce_mean(tf.square(output - targets))\n",
    "\n",
    "# # Define the optimizer\n",
    "# optimizer = tf.keras.optimizers.SGD(learning_rate=0.01)\n",
    "\n",
    "# # Create the model\n",
    "# model = tf.keras.Model(inputs=[inputs, targets], outputs=output)\n",
    "# model.add_loss(loss)\n",
    "\n",
    "# # Compile the model\n",
    "# model.compile(optimizer=optimizer)\n",
    "\n",
    "# # Define your input and target data as NumPy arrays\n",
    "# input_data = np.array([[1.0, 2.0, 3.0, 4.0]])  # Replace with your input data\n",
    "# target_data = np.array([[0.5, 0.8]])  # Replace with your target data\n",
    "\n",
    "# # Train the model\n",
    "# model.fit([input_data, target_data], epochs=1000, verbose=0)\n",
    "\n",
    "# # Test the trained network\n",
    "# test_input = np.array([[1.0, 2.0, 3.0, 4.0]])\n",
    "# test_target = np.array([[0.0, 0.0]])  # Dummy target for prediction, not used\n",
    "# predicted_output = model.predict([test_input, test_target])\n",
    "\n",
    "# print(f\"Predicted Output: {predicted_output}\")\n"
   ]
  },
  {
   "cell_type": "markdown",
   "id": "be66762d",
   "metadata": {},
   "source": [
    "# 5. Parametric Rectified Linear Unit (PReLU)"
   ]
  },
  {
   "cell_type": "markdown",
   "id": "23036474",
   "metadata": {},
   "source": [
    "# The Parametric Rectified Linear Unit (PReLU) activation function is an extension of the Leaky ReLU activation function that allows the slope of the negative part of the function to be learned during the training process. Instead of using a fixed slope value, PReLU introduces a set of learnable parameters that control the slope.\n",
    "\n",
    "The PReLU function is defined as follows:\n",
    "\n",
    "PReLU(x) = max(0, x) + alpha * min(0, x)\n",
    "\n",
    "where 'x' is the input value and 'alpha' is a learnable parameter vector of the same shape as 'x'. The 'alpha' parameter determines the slope for negative inputs, allowing it to be different for each neuron or channel in a neural network.\n",
    "\n",
    "During the training process, the 'alpha' parameter is updated using gradient descent or any other optimization algorithm, enabling the network to learn the optimal slope for negative inputs. If the learned 'alpha' value is close to zero, PReLU behaves like the ReLU activation function, while if 'alpha' is negative, it introduces a slight negative slope for negative inputs.\n",
    "\n",
    "The PReLU activation function offers several advantages:\n",
    "\n",
    "(1). Adaptive slope for negative inputs: PReLU allows each neuron or channel to learn its own slope for negative inputs. This adaptability helps the model capture more complex patterns and enhances its learning capacity.\n",
    "    \n",
    "\n",
    "(2). Addressing the dying ReLU problem: Like Leaky ReLU, PReLU helps mitigate the issue of dying neurons by providing non-zero gradients for negative inputs. This property encourages the recovery of previously dead neurons and improves the overall learning performance of the network.\n",
    "    \n",
    "\n",
    "(3). Increased model flexibility: By introducing learnable parameters, PReLU adds flexibility to the model's architecture. The network can automatically adjust the slope based on the data, potentially leading to improved accuracy and generalization.\n",
    "    \n",
    "\n",
    "(4). Reduced reliance on hyperparameter tuning: PReLU reduces the need for manual selection of the slope value, which is required in Leaky ReLU. The network can learn the optimal slope values through the training process, reducing the dependency on hyperparameter tuning.\n",
    "    "
   ]
  },
  {
   "cell_type": "markdown",
   "id": "482cfeb2",
   "metadata": {},
   "source": [
    "# However, there are a few considerations to keep in mind when using PReLU:\n",
    "\n",
    "(1). Increased model complexity: Introducing learnable parameters in the activation function increases the number of parameters in the model. This can lead to increased computational complexity, memory requirements, and potential overfitting, especially when applied to large-scale models.\n",
    "\n",
    "(2). Potential overfitting: If the 'alpha' parameters are not regularized properly, PReLU can be prone to overfitting. It is essential to use appropriate regularization techniques, such as weight decay or dropout, to prevent overfitting and promote generalization."
   ]
  },
  {
   "cell_type": "markdown",
   "id": "82c89abf",
   "metadata": {},
   "source": [
    "# Disadvantages of PRelu : \n",
    "    While the Parametric Rectified Linear Unit (PReLU) activation function offers several advantages, it also has some potential disadvantages:\n",
    "\n",
    "(1). Increased model complexity: PReLU introduces additional learnable parameters for each neuron or channel in the network. This leads to an increase in the number of parameters and model complexity. As a result, the model may require more computational resources and memory, especially in large-scale networks.\n",
    "\n",
    "(2). Overfitting risk: If not properly regularized, PReLU can be prone to overfitting. The additional learnable parameters provide more capacity for the model to memorize the training data, increasing the risk of overfitting and reducing generalization to unseen data. Applying appropriate regularization techniques, such as weight decay or dropout, is crucial to mitigate this risk.\n",
    "\n",
    "(3). Sensitivity to initialization: The initial values of the learnable parameters (alphas) in PReLU can have a significant impact on the training process. Initializing them improperly may lead to difficulties in convergence or suboptimal performance. Careful initialization strategies, such as Xavier or He initialization, can help alleviate this issue.\n",
    "\n",
    "(4). Computational overhead: Compared to simpler activation functions like ReLU or Leaky ReLU, PReLU involves additional calculations due to the presence of learnable parameters. This can result in increased computational overhead during training and inference, impacting the overall efficiency of the model.\n",
    "\n",
    "(5). Lack of theoretical justification: Although PReLU has shown empirical success in various deep learning applications, it lacks strong theoretical justification compared to some other activation functions. The absence of theoretical guarantees makes it challenging to analyze and understand its behavior and properties fully.\n"
   ]
  },
  {
   "cell_type": "markdown",
   "id": "07cf4ce5",
   "metadata": {},
   "source": [
    "# (6). ELU(Exponantial Linear Unit) "
   ]
  },
  {
   "cell_type": "markdown",
   "id": "fc59baa7",
   "metadata": {},
   "source": [
    "# The Exponential Linear Unit (ELU) activation function is a variant of the Rectified Linear Unit (ReLU) activation function that introduces a negative saturation regime to handle negative inputs. It aims to address the limitations of the ReLU function, such as the \"dying ReLU\" problem and the lack of activation for negative inputs.\n",
    "\n",
    "\n",
    "The ELU activation function is defined as follows:\n",
    "\n",
    "ELU(x) = x if x >= 0,\n",
    "alpha * (exp(x) - 1) if x < 0,\n",
    "\n",
    "where 'x' is the input value and 'alpha' is a hyperparameter that controls the function's behavior for negative inputs.\n",
    "\n",
    "\n",
    "The ELU activation function provides the following advantages:\n",
    "    \n",
    "(1). Non-zero gradient for negative inputs: Unlike ReLU, which assigns zero gradients for negative inputs, ELU assigns non-zero gradients. This helps address the \"dying ReLU\" problem, where neurons can become inactive and stop learning due to always receiving negative inputs. The non-zero gradients for negative inputs allow neurons to recover and continue learning.\n",
    "    \n",
    "\n",
    "(2). Smoother transition for negative inputs: The ELU function smoothly transitions to negative values for inputs below zero. The exponential term (exp(x)) ensures a smooth curve, allowing for continuous gradients and avoiding potential abrupt changes in the network's behavior.\n",
    "\n",
    "(3). Negative saturation regime: ELU introduces a negative saturation regime for extreme negative inputs. The function approaches a negative value as 'x' becomes more negative, preventing the output from growing indefinitely. This saturation regime helps stabilize the network during training and prevents the exploding gradient problem.\n",
    "\n",
    "(4). Capturing both positive and negative information: By providing activation for both positive and negative inputs, ELU can capture information from both sides of the input spectrum. This property can be beneficial for tasks where the positive and negative values carry important information or contribute to the model's decision-making process.\n",
    "    \n",
    "    \n",
    "However, there are a few considerations when using the ELU activation function:\n",
    "\n",
    "(1). Computational overhead: The ELU function involves exponential calculations for negative inputs, which can be computationally more expensive compared to simpler activation functions like ReLU. This increased computational cost can impact the overall training and inference time, especially for large-scale models.\n",
    "    \n",
    "\n",
    "(2). Sensitivity to hyperparameter choice: The 'alpha' hyperparameter in ELU determines the saturation regime and the steepness of the function for negative inputs. The choice of 'alpha' can impact the network's performance, and different datasets or architectures may require different values. Proper hyperparameter tuning is necessary to achieve optimal results.\n",
    "    \n",
    "\n",
    "(3). Lack of sparsity: Unlike ReLU, which can induce sparsity by setting negative inputs to zero, ELU does not naturally induce sparsity. This property may or may not be desirable depending on the specific task and network architecture.\n",
    "    "
   ]
  },
  {
   "cell_type": "code",
   "execution_count": 6,
   "id": "ff8807cb",
   "metadata": {},
   "outputs": [],
   "source": [
    "# import tensorflow as tf\n",
    "\n",
    "# # Define input data\n",
    "# input_data = [[1.0, 2.0, -3.0, 4.0]]\n",
    "# target_data = [[1.0, 2.0]]  # Adjusted target data shape to (1, 2)\n",
    "\n",
    "# # Create a Sequential model\n",
    "# model = tf.keras.Sequential()\n",
    "\n",
    "# # Add a dense layer with ELU activation function\n",
    "# model.add(tf.keras.layers.Dense(8, activation=tf.nn.elu, input_shape=(4,)))\n",
    "\n",
    "# # Add output layer\n",
    "# model.add(tf.keras.layers.Dense(2))\n",
    "\n",
    "# # Print model summary\n",
    "# model.summary()\n",
    "\n",
    "# # Compile the model\n",
    "# model.compile(optimizer='adam', loss='mse')\n",
    "\n",
    "# # Train the model\n",
    "# model.fit(input_data, target_data, epochs=1000, verbose=0)\n",
    "\n",
    "# # Test the model\n",
    "# test_input = [[1.0, 2.0, 3.0, 4.0]]\n",
    "# predicted_output = model.predict(test_input)\n",
    "\n",
    "# print(f\"Predicted Output: {predicted_output}\")\n"
   ]
  },
  {
   "cell_type": "markdown",
   "id": "27d15900",
   "metadata": {},
   "source": [
    "# Disadvantages of ELU :\n",
    "    The Exponential Linear Unit (ELU) activation function is a popular alternative to traditional activation functions like the Rectified Linear Unit (ReLU). While ELU offers several advantages, it also has a few disadvantages. Here are some of the main disadvantages of ELU:\n",
    "        \n",
    "\n",
    "(1). Computational Complexity: ELU is computationally more expensive than simpler activation functions like ReLU. This is because ELU involves additional mathematical operations, including exponentiation and the evaluation of conditional statements, which can increase the overall computational cost during training and inference.\n",
    "    \n",
    "\n",
    "(2). Non-Monotonicity: ELU is a non-monotonic activation function, which means its output does not have a consistent slope across its entire domain. This non-monotonic behavior can introduce some challenges during optimization, as it may lead to oscillations or slow convergence in certain cases.\n",
    "    \n",
    "    \n",
    "\n",
    "(3). Sensitive to Hyperparameters: ELU has hyperparameters that need to be carefully tuned for optimal performance. Specifically, the ELU function has a parameter called alpha, which controls the negative region of the activation. Setting alpha to a suboptimal value can lead to issues such as dead neurons (units that are never activated) or over-sensitivity to negative inputs.\n",
    "    \n",
    "\n",
    "(4). Lack of Standardization: Unlike widely used activation functions like ReLU or sigmoid, ELU is not as standardized in terms of its implementation across different deep learning frameworks. This lack of standardization can make it slightly more challenging to use ELU in certain environments or when integrating models across different platforms.\n",
    "    \n",
    "\n",
    "(5). Limited Theoretical Understanding: While ELU has gained popularity due to its empirical success in deep learning applications, its theoretical understanding is still relatively limited compared to more established activation functions. The lack of comprehensive theoretical analysis can make it harder to interpret the behavior and properties of ELU in certain scenarios.\n",
    "    "
   ]
  },
  {
   "cell_type": "markdown",
   "id": "96c8384f",
   "metadata": {},
   "source": [
    "# 7. SoftMax Function \n",
    "\n",
    "The softmax function is primarily used in the output layer of a neural network for multi-class classification problems. It provides a convenient way to interpret the outputs as probabilities and make predictions based on the highest probability class. The most common loss function used with softmax is the categorical cross-entropy loss, which measures the difference between the predicted probabilities and the true class labels."
   ]
  },
  {
   "cell_type": "markdown",
   "id": "d768af73",
   "metadata": {},
   "source": [
    "# The softmax activation function is a commonly used activation function in the output layer of a neural network, particularly for multi-class classification problems. It is designed to produce a probability distribution over multiple classes, where the output values sum up to 1.\n",
    "\n",
    "Here are the key characteristics and properties of the softmax activation function:\n",
    "\n",
    "(1). Probability Interpretation: The softmax function produces a probability distribution over multiple classes. Each output value represents the probability of the corresponding class being the correct class. The values are normalized to sum up to 1, allowing them to be interpreted as probabilities.\n",
    "\n",
    "(2). Output Range: The output of the softmax function is always in the range [0, 1]. This property makes it suitable for representing probabilities.\n",
    "\n",
    "(3). Relative Importance: The softmax function emphasizes the differences between the input values. The output probabilities are determined based on the relative magnitudes of the input values. Larger input values result in larger output probabilities, while smaller input values yield smaller probabilities.\n",
    "\n",
    "(4). Sensitivity to Input Magnitudes: Softmax is sensitive to the magnitudes of the input values. Small changes in the input can result in significant changes in the output probabilities. This sensitivity can be advantageous when there are clear differences between the input values, but it can also lead to instability if the input values are very large or very small.\n",
    "    \n",
    "(5). Non-Linearity: Like other activation functions, softmax introduces non-linearity to the neural network. This non-linearity enables the network to learn complex relationships and make non-linear decisions.\n",
    "\n",
    "(6). Differentiability: The softmax function is differentiable, which allows for efficient backpropagation during training. The gradients of the softmax outputs with respect to the inputs can be calculated analytically.\n",
    "\n",
    "(7). Invariance to Constant Shifts: The softmax function is invariant to constant shifts in the input values. Adding a constant to all the input values does not change the output probabilities. This property can be useful invariance when dealing with certain types of data transformations or regularization techniques."
   ]
  },
  {
   "cell_type": "code",
   "execution_count": 10,
   "id": "592ebd21",
   "metadata": {},
   "outputs": [],
   "source": [
    "# import tensorflow as tf\n",
    "\n",
    "# # Define input data\n",
    "# input_data = [[0.5, 1.2, 0.8], [2.1, 0.3, 1.5]]\n",
    "\n",
    "# # Create a Sequential model\n",
    "# model = tf.keras.Sequential()\n",
    "\n",
    "# # Add a dense layer without activation function\n",
    "# model.add(tf.keras.layers.Dense(3, input_shape=(3,)))\n",
    "\n",
    "# # Apply softmax activation function\n",
    "# model.add(tf.keras.layers.Activation('softmax'))\n",
    "\n",
    "# # Print model summary\n",
    "# model.summary()\n",
    "\n",
    "# # Compute softmax output\n",
    "# softmax_output = model.predict(input_data)\n",
    "\n",
    "# print(\"Softmax Output:\")\n",
    "# print(softmax_output)\n"
   ]
  },
  {
   "cell_type": "code",
   "execution_count": null,
   "id": "8e5d7dc0",
   "metadata": {},
   "outputs": [],
   "source": []
  }
 ],
 "metadata": {
  "kernelspec": {
   "display_name": "Python 3 (ipykernel)",
   "language": "python",
   "name": "python3"
  },
  "language_info": {
   "codemirror_mode": {
    "name": "ipython",
    "version": 3
   },
   "file_extension": ".py",
   "mimetype": "text/x-python",
   "name": "python",
   "nbconvert_exporter": "python",
   "pygments_lexer": "ipython3",
   "version": "3.9.12"
  }
 },
 "nbformat": 4,
 "nbformat_minor": 5
}
