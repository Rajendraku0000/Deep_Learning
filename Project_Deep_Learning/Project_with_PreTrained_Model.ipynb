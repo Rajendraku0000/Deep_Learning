{
  "nbformat": 4,
  "nbformat_minor": 0,
  "metadata": {
    "colab": {
      "provenance": []
    },
    "kernelspec": {
      "name": "python3",
      "display_name": "Python 3"
    },
    "language_info": {
      "name": "python"
    }
  },
  "cells": [
    {
      "cell_type": "code",
      "execution_count": 11,
      "metadata": {
        "id": "dKYhBdnxf66G"
      },
      "outputs": [],
      "source": [
        "from tensorflow.keras.applications.resnet50 import ResNet50\n",
        "from  tensorflow.keras.preprocessing import image\n",
        "from tensorflow.keras.applications.resnet50 import preprocess_input,decode_predictions\n",
        "import numpy as np"
      ]
    },
    {
      "cell_type": "code",
      "source": [
        "model=ResNet50(weights=\"imagenet\")"
      ],
      "metadata": {
        "colab": {
          "base_uri": "https://localhost:8080/"
        },
        "id": "XfdBRrTUjE9P",
        "outputId": "4bc5de1f-e881-43fb-86b3-0c04cd214d8e"
      },
      "execution_count": 12,
      "outputs": [
        {
          "output_type": "stream",
          "name": "stdout",
          "text": [
            "Downloading data from https://storage.googleapis.com/tensorflow/keras-applications/resnet/resnet50_weights_tf_dim_ordering_tf_kernels.h5\n",
            "102967424/102967424 [==============================] - 0s 0us/step\n"
          ]
        }
      ]
    },
    {
      "cell_type": "code",
      "source": [
        "img_path='/content/drive/MyDrive/test photo/tomato.jpeg'\n",
        "\n",
        "img=image.load_img(img_path,target_size=(224, 224))\n",
        "\n",
        "x=image.img_to_array(img)\n",
        "x=np.expand_dims(x,axis=0)\n",
        "\n",
        "new=preprocess_input(x)\n"
      ],
      "metadata": {
        "id": "vE7WVE7TgYUw"
      },
      "execution_count": 31,
      "outputs": []
    },
    {
      "cell_type": "code",
      "source": [
        "preds=model.predict(x)\n",
        "print(\"predictions\",decode_predictions(preds,top=3)[0])"
      ],
      "metadata": {
        "colab": {
          "base_uri": "https://localhost:8080/"
        },
        "id": "9EAMOlCPjDM1",
        "outputId": "43671fca-972d-4f3e-fb25-8bef0018b00b"
      },
      "execution_count": 32,
      "outputs": [
        {
          "output_type": "stream",
          "name": "stdout",
          "text": [
            "1/1 [==============================] - 0s 177ms/step\n",
            "predictions [('n04296562', 'stage', 0.4317785), ('n03691459', 'loudspeaker', 0.17627518), ('n04286575', 'spotlight', 0.100962445)]\n"
          ]
        }
      ]
    },
    {
      "cell_type": "code",
      "source": [],
      "metadata": {
        "id": "Qt1slpYJh4DK"
      },
      "execution_count": null,
      "outputs": []
    }
  ]
}