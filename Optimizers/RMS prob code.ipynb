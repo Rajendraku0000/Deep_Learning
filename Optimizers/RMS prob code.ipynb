{
 "cells": [
  {
   "cell_type": "code",
   "execution_count": 1,
   "id": "14082eb2",
   "metadata": {},
   "outputs": [
    {
     "name": "stdout",
     "output_type": "stream",
     "text": [
      "Epoch 1/10\n",
      "200/200 [==============================] - 3s 9ms/step - loss: 0.4481 - accuracy: 0.8091 - val_loss: 0.4049 - val_accuracy: 0.8288\n",
      "Epoch 2/10\n",
      "200/200 [==============================] - 1s 6ms/step - loss: 0.3964 - accuracy: 0.8363 - val_loss: 0.3802 - val_accuracy: 0.8375\n",
      "Epoch 3/10\n",
      "200/200 [==============================] - 1s 6ms/step - loss: 0.3710 - accuracy: 0.8473 - val_loss: 0.3617 - val_accuracy: 0.8512\n",
      "Epoch 4/10\n",
      "200/200 [==============================] - 1s 7ms/step - loss: 0.3548 - accuracy: 0.8544 - val_loss: 0.3593 - val_accuracy: 0.8494\n",
      "Epoch 5/10\n",
      "200/200 [==============================] - 1s 6ms/step - loss: 0.3474 - accuracy: 0.8566 - val_loss: 0.3499 - val_accuracy: 0.8581\n",
      "Epoch 6/10\n",
      "200/200 [==============================] - 1s 6ms/step - loss: 0.3415 - accuracy: 0.8600 - val_loss: 0.3467 - val_accuracy: 0.8562\n",
      "Epoch 7/10\n",
      "200/200 [==============================] - 1s 6ms/step - loss: 0.3379 - accuracy: 0.8595 - val_loss: 0.3467 - val_accuracy: 0.8500\n",
      "Epoch 8/10\n",
      "200/200 [==============================] - 1s 6ms/step - loss: 0.3331 - accuracy: 0.8634 - val_loss: 0.3473 - val_accuracy: 0.8600\n",
      "Epoch 9/10\n",
      "200/200 [==============================] - 1s 5ms/step - loss: 0.3318 - accuracy: 0.8622 - val_loss: 0.3409 - val_accuracy: 0.8562\n",
      "Epoch 10/10\n",
      "200/200 [==============================] - 1s 6ms/step - loss: 0.3287 - accuracy: 0.8639 - val_loss: 0.3443 - val_accuracy: 0.8562\n",
      "63/63 [==============================] - 1s 4ms/step - loss: 0.3484 - accuracy: 0.8565\n",
      "Test Loss: 0.34844687581062317\n",
      "Test Accuracy: 0.8565000295639038\n"
     ]
    }
   ],
   "source": [
    "import pandas as pd\n",
    "import numpy as np\n",
    "import tensorflow as tf\n",
    "from sklearn.model_selection import train_test_split\n",
    "from sklearn.preprocessing import LabelEncoder, StandardScaler\n",
    "\n",
    "\n",
    "data = pd.read_csv(\"C:\\\\Users\\\\rajen\\\\OneDrive\\\\Desktop\\\\data\\\\Churn_Modelling.csv\")\n",
    "# data.head() \n",
    "\n",
    "# Preprocess the dataset\n",
    "X = data.iloc[:, 3:-1].values\n",
    "y = data.iloc[:, -1].values\n",
    "\n",
    "# Encode categorical features\n",
    "le = LabelEncoder()\n",
    "X[:, 1] = le.fit_transform(X[:, 1])  # Geography\n",
    "X[:, 2] = le.fit_transform(X[:, 2])  # Gender\n",
    "\n",
    "# Split the dataset into train and test sets\n",
    "X_train, X_test, y_train, y_test = train_test_split(X, y, test_size=0.2, random_state=42)\n",
    "\n",
    "# Standardize the features\n",
    "scaler = StandardScaler()\n",
    "X_train = scaler.fit_transform(X_train)\n",
    "X_test = scaler.transform(X_test)\n",
    "\n",
    "# Define the neural network architecture\n",
    "model = tf.keras.Sequential([\n",
    "    tf.keras.layers.Dense(64, activation='relu', input_dim=X_train.shape[1]),\n",
    "    tf.keras.layers.Dense(64, activation='relu'),\n",
    "    tf.keras.layers.Dense(1, activation='sigmoid')\n",
    "])\n",
    "\n",
    "# Define the loss function and metrics\n",
    "loss_fn = tf.keras.losses.BinaryCrossentropy()\n",
    "metrics = ['accuracy']\n",
    "\n",
    "# Define the optimizer with RMSprop\n",
    "learning_rate = 0.001\n",
    "optimizer = tf.keras.optimizers.RMSprop(learning_rate=learning_rate)\n",
    "\n",
    "# Compile the model\n",
    "model.compile(optimizer=optimizer, loss=loss_fn, metrics=metrics)\n",
    "\n",
    "# Train the model\n",
    "epochs = 10\n",
    "batch_size = 32\n",
    "model.fit(X_train, y_train, batch_size=batch_size, epochs=epochs, validation_split=0.2)\n",
    "\n",
    "# Evaluate the model\n",
    "test_loss, test_acc = model.evaluate(X_test, y_test)\n",
    "print(\"Test Loss:\", test_loss)\n",
    "print(\"Test Accuracy:\", test_acc)"
   ]
  },
  {
   "cell_type": "code",
   "execution_count": null,
   "id": "c91eb19c",
   "metadata": {},
   "outputs": [],
   "source": []
  }
 ],
 "metadata": {
  "kernelspec": {
   "display_name": "Python 3 (ipykernel)",
   "language": "python",
   "name": "python3"
  },
  "language_info": {
   "codemirror_mode": {
    "name": "ipython",
    "version": 3
   },
   "file_extension": ".py",
   "mimetype": "text/x-python",
   "name": "python",
   "nbconvert_exporter": "python",
   "pygments_lexer": "ipython3",
   "version": "3.10.11"
  }
 },
 "nbformat": 4,
 "nbformat_minor": 5
}
